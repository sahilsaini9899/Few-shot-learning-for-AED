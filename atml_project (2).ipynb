{
  "nbformat": 4,
  "nbformat_minor": 0,
  "metadata": {
    "colab": {
      "name": "atml_project.ipynb",
      "provenance": [],
      "collapsed_sections": []
    },
    "kernelspec": {
      "display_name": "Python 3",
      "name": "python3"
    },
    "language_info": {
      "name": "python"
    }
  },
  "cells": [
    {
      "cell_type": "markdown",
      "metadata": {
        "id": "Pqyn0X9oIDxu"
      },
      "source": [
        "Team= ML_questers"
      ]
    },
    {
      "cell_type": "code",
      "metadata": {
        "id": "N5VIb5DceLdz"
      },
      "source": [
        "                                                                                                                                                                                                                                                          import keras\n",
        "from keras.layers import Activation, Dense, Dropout, Flatten\n",
        "from tensorflow.keras.layers import Conv2D, MaxPooling2D\n",
        "from keras.models import Sequential\n",
        "import librosa\n",
        "import librosa.display\n",
        "import numpy as np\n",
        "import pandas as pd\n",
        "import random\n",
        "import warnings\n",
        "import io\n",
        "warnings.filterwarnings('ignore')"
      ],
      "execution_count": 1,
      "outputs": []
    },
    {
      "cell_type": "code",
      "metadata": {
        "colab": {
          "resources": {
            "http://localhost:8080/nbextensions/google.colab/files.js": {
              "data": "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",
              "ok": true,
              "headers": [
                [
                  "content-type",
                  "application/javascript"
                ]
              ],
              "status": 200,
              "status_text": ""
            }
          },
          "base_uri": "https://localhost:8080/",
          "height": 73
        },
        "id": "A5wjKjrhfQR0",
        "outputId": "f3dee196-1879-4dc5-efac-eef09166f4d7"
      },
      "source": [
        "from google.colab import files \n",
        "uploaded = files.upload()"
      ],
      "execution_count": 2,
      "outputs": [
        {
          "output_type": "display_data",
          "data": {
            "text/html": [
              "\n",
              "     <input type=\"file\" id=\"files-b2db4d3a-3a4e-497a-bacc-b184aeebd50f\" name=\"files[]\" multiple disabled\n",
              "        style=\"border:none\" />\n",
              "     <output id=\"result-b2db4d3a-3a4e-497a-bacc-b184aeebd50f\">\n",
              "      Upload widget is only available when the cell has been executed in the\n",
              "      current browser session. Please rerun this cell to enable.\n",
              "      </output>\n",
              "      <script src=\"/nbextensions/google.colab/files.js\"></script> "
            ],
            "text/plain": [
              "<IPython.core.display.HTML object>"
            ]
          },
          "metadata": {
            "tags": []
          }
        },
        {
          "output_type": "stream",
          "text": [
            "Saving UrbanSound8K.csv to UrbanSound8K.csv\n"
          ],
          "name": "stdout"
        }
      ]
    },
    {
      "cell_type": "code",
      "metadata": {
        "colab": {
          "base_uri": "https://localhost:8080/"
        },
        "id": "WZXWZWMhdVrJ",
        "outputId": "e9838fda-5f5b-4ca8-a9c4-3b1dadc909c6"
      },
      "source": [
        "df = pd.read_csv(io.BytesIO(uploaded['UrbanSound8K.csv']))\n",
        "print(df)"
      ],
      "execution_count": 3,
      "outputs": [
        {
          "output_type": "stream",
          "text": [
            "         slice_file_name    fsID       start  ...  fold  classID             class\n",
            "0       100032-3-0-0.wav  100032    0.000000  ...     5        3          dog_bark\n",
            "1     100263-2-0-121.wav  100263   60.500000  ...     5        2  children_playing\n",
            "2     100263-2-0-126.wav  100263   63.000000  ...     5        2  children_playing\n",
            "3     100263-2-0-137.wav  100263   68.500000  ...     5        2  children_playing\n",
            "4     100263-2-0-143.wav  100263   71.500000  ...     5        2  children_playing\n",
            "...                  ...     ...         ...  ...   ...      ...               ...\n",
            "8717     99812-1-2-0.wav   99812  159.522205  ...     7        1          car_horn\n",
            "8718     99812-1-3-0.wav   99812  181.142431  ...     7        1          car_horn\n",
            "8719     99812-1-4-0.wav   99812  242.691902  ...     7        1          car_horn\n",
            "8720     99812-1-5-0.wav   99812  253.209850  ...     7        1          car_horn\n",
            "8721     99812-1-6-0.wav   99812  332.289233  ...     7        1          car_horn\n",
            "\n",
            "[8722 rows x 8 columns]\n"
          ],
          "name": "stdout"
        }
      ]
    },
    {
      "cell_type": "code",
      "metadata": {
        "id": "mGW4EQ0ef43d",
        "colab": {
          "base_uri": "https://localhost:8080/"
        },
        "outputId": "c9a7c99d-5cbc-4f1f-821b-a9f21578d93c"
      },
      "source": [
        "df.shape"
      ],
      "execution_count": 4,
      "outputs": [
        {
          "output_type": "execute_result",
          "data": {
            "text/plain": [
              "(8722, 8)"
            ]
          },
          "metadata": {
            "tags": []
          },
          "execution_count": 4
        }
      ]
    },
    {
      "cell_type": "code",
      "metadata": {
        "colab": {
          "base_uri": "https://localhost:8080/",
          "height": 198
        },
        "id": "Zu3ZPcqtgHmO",
        "outputId": "45cfa40b-d4ff-4cb0-e2fc-0c40729dc3c7"
      },
      "source": [
        "data=df[['slice_file_name','fold','classID','class']][df['end']-df['start']>=3]\n",
        "data.head()"
      ],
      "execution_count": 5,
      "outputs": [
        {
          "output_type": "execute_result",
          "data": {
            "text/html": [
              "<div>\n",
              "<style scoped>\n",
              "    .dataframe tbody tr th:only-of-type {\n",
              "        vertical-align: middle;\n",
              "    }\n",
              "\n",
              "    .dataframe tbody tr th {\n",
              "        vertical-align: top;\n",
              "    }\n",
              "\n",
              "    .dataframe thead th {\n",
              "        text-align: right;\n",
              "    }\n",
              "</style>\n",
              "<table border=\"1\" class=\"dataframe\">\n",
              "  <thead>\n",
              "    <tr style=\"text-align: right;\">\n",
              "      <th></th>\n",
              "      <th>slice_file_name</th>\n",
              "      <th>fold</th>\n",
              "      <th>classID</th>\n",
              "      <th>class</th>\n",
              "    </tr>\n",
              "  </thead>\n",
              "  <tbody>\n",
              "    <tr>\n",
              "      <th>1</th>\n",
              "      <td>100263-2-0-121.wav</td>\n",
              "      <td>5</td>\n",
              "      <td>2</td>\n",
              "      <td>children_playing</td>\n",
              "    </tr>\n",
              "    <tr>\n",
              "      <th>2</th>\n",
              "      <td>100263-2-0-126.wav</td>\n",
              "      <td>5</td>\n",
              "      <td>2</td>\n",
              "      <td>children_playing</td>\n",
              "    </tr>\n",
              "    <tr>\n",
              "      <th>3</th>\n",
              "      <td>100263-2-0-137.wav</td>\n",
              "      <td>5</td>\n",
              "      <td>2</td>\n",
              "      <td>children_playing</td>\n",
              "    </tr>\n",
              "    <tr>\n",
              "      <th>4</th>\n",
              "      <td>100263-2-0-143.wav</td>\n",
              "      <td>5</td>\n",
              "      <td>2</td>\n",
              "      <td>children_playing</td>\n",
              "    </tr>\n",
              "    <tr>\n",
              "      <th>5</th>\n",
              "      <td>100263-2-0-161.wav</td>\n",
              "      <td>5</td>\n",
              "      <td>2</td>\n",
              "      <td>children_playing</td>\n",
              "    </tr>\n",
              "  </tbody>\n",
              "</table>\n",
              "</div>"
            ],
            "text/plain": [
              "      slice_file_name  fold  classID             class\n",
              "1  100263-2-0-121.wav     5        2  children_playing\n",
              "2  100263-2-0-126.wav     5        2  children_playing\n",
              "3  100263-2-0-137.wav     5        2  children_playing\n",
              "4  100263-2-0-143.wav     5        2  children_playing\n",
              "5  100263-2-0-161.wav     5        2  children_playing"
            ]
          },
          "metadata": {
            "tags": []
          },
          "execution_count": 5
        }
      ]
    },
    {
      "cell_type": "code",
      "metadata": {
        "id": "2hAFun70g8LL",
        "colab": {
          "base_uri": "https://localhost:8080/"
        },
        "outputId": "b8f79fa0-f230-418d-fb2a-a93df0d06191"
      },
      "source": [
        "data.shape"
      ],
      "execution_count": 6,
      "outputs": [
        {
          "output_type": "execute_result",
          "data": {
            "text/plain": [
              "(7458, 4)"
            ]
          },
          "metadata": {
            "tags": []
          },
          "execution_count": 6
        }
      ]
    },
    {
      "cell_type": "markdown",
      "metadata": {
        "id": "pzX8l_8VjOpc"
      },
      "source": [
        "lets plot the spectrogram of children_playing\n",
        "\n"
      ]
    },
    {
      "cell_type": "code",
      "metadata": {
        "colab": {
          "base_uri": "https://localhost:8080/"
        },
        "id": "VjC-rR2hjUSD",
        "outputId": "2656dcc7-448e-4c47-e9eb-0cdc9304751c"
      },
      "source": [
        "from google.colab import drive\n",
        "drive.mount(\"/content/gdrive\")"
      ],
      "execution_count": 7,
      "outputs": [
        {
          "output_type": "stream",
          "text": [
            "Mounted at /content/gdrive\n"
          ],
          "name": "stdout"
        }
      ]
    },
    {
      "cell_type": "code",
      "metadata": {
        "id": "7qqvAeoK59Y1",
        "colab": {
          "base_uri": "https://localhost:8080/"
        },
        "outputId": "695bcf3f-be3e-47ef-c3f8-ec8029ca36c3"
      },
      "source": [
        "y,sr=librosa.load('/content/gdrive/My Drive/fold3/6988-5-0-0.wav')\n",
        "ps=librosa.feature.melspectrogram(y=y,sr=sr)\n",
        "ps.shape"
      ],
      "execution_count": 8,
      "outputs": [
        {
          "output_type": "execute_result",
          "data": {
            "text/plain": [
              "(128, 173)"
            ]
          },
          "metadata": {
            "tags": []
          },
          "execution_count": 8
        }
      ]
    },
    {
      "cell_type": "code",
      "metadata": {
        "id": "01YInVBjZLFI",
        "colab": {
          "base_uri": "https://localhost:8080/",
          "height": 297
        },
        "outputId": "fa779b99-2963-4826-9be7-1b8f06c71324"
      },
      "source": [
        "librosa.display.specshow(ps,y_axis='mel',x_axis='time')"
      ],
      "execution_count": 9,
      "outputs": [
        {
          "output_type": "execute_result",
          "data": {
            "text/plain": [
              "<matplotlib.collections.QuadMesh at 0x7fe4eef97950>"
            ]
          },
          "metadata": {
            "tags": []
          },
          "execution_count": 9
        },
        {
          "output_type": "display_data",
          "data": {
            "image/png": "[encoded data removed]",
            "text/plain": [
              "<Figure size 432x288 with 1 Axes>"
            ]
          },
          "metadata": {
            "tags": [],
            "needs_background": "light"
          }
        }
      ]
    },
    {
      "cell_type": "code",
      "metadata": {
        "id": "AQLIT4ppYCN_",
        "colab": {
          "base_uri": "https://localhost:8080/"
        },
        "outputId": "967e93ec-31d1-4aad-c2d9-d1b3bebdc542"
      },
      "source": [
        "y,sr=librosa.load('/content/gdrive/My Drive/fold3/12647-3-1-0.wav')\n",
        "ps=librosa.feature.melspectrogram(y=y,sr=sr)\n",
        "ps.shape"
      ],
      "execution_count": 10,
      "outputs": [
        {
          "output_type": "execute_result",
          "data": {
            "text/plain": [
              "(128, 52)"
            ]
          },
          "metadata": {
            "tags": []
          },
          "execution_count": 10
        }
      ]
    },
    {
      "cell_type": "code",
      "metadata": {
        "id": "SN9WkulvYJoQ",
        "colab": {
          "base_uri": "https://localhost:8080/",
          "height": 297
        },
        "outputId": "e98fa3c0-8ae6-4947-8056-dd8c4a704e6b"
      },
      "source": [
        "librosa.display.specshow(ps,y_axis='mel',x_axis='time')"
      ],
      "execution_count": 11,
      "outputs": [
        {
          "output_type": "execute_result",
          "data": {
            "text/plain": [
              "<matplotlib.collections.QuadMesh at 0x7fe4eefcad90>"
            ]
          },
          "metadata": {
            "tags": []
          },
          "execution_count": 11
        },
        {
          "output_type": "display_data",
          "data": {
            "image/png": "[encoded data removed]",
            "text/plain": [
              "<Figure size 432x288 with 1 Axes>"
            ]
          },
          "metadata": {
            "tags": [],
            "needs_background": "light"
          }
        }
      ]
    },
    {
      "cell_type": "markdown",
      "metadata": {
        "id": "e381HGQgZEdB"
      },
      "source": [
        "Iterating over all files\n"
      ]
    },
    {
      "cell_type": "code",
      "metadata": {
        "colab": {
          "base_uri": "https://localhost:8080/"
        },
        "id": "GaT-npQgirNv",
        "outputId": "db0549bc-087a-4638-def5-0e0cd04273a1"
      },
      "source": [
        "array = [3,5]\n",
        "data=data.loc[data['fold'].isin(array)]\n",
        "data.shape"
      ],
      "execution_count": 12,
      "outputs": [
        {
          "output_type": "execute_result",
          "data": {
            "text/plain": [
              "(1597, 4)"
            ]
          },
          "metadata": {
            "tags": []
          },
          "execution_count": 12
        }
      ]
    },
    {
      "cell_type": "code",
      "metadata": {
        "id": "b-ahupYLZC6J"
      },
      "source": [
        "data['path']='fold'+data['fold'].astype('str')+'/'+data['slice_file_name'].astype('str')"
      ],
      "execution_count": 13,
      "outputs": []
    },
    {
      "cell_type": "code",
      "metadata": {
        "id": "QygqSCCleB2U"
      },
      "source": [
        "D=[]\n",
        "for row in data.itertuples():\n",
        "  y,sr=librosa.load('/content/gdrive/My Drive/'+ row.path,duration=2.97)\n",
        "  ps=librosa.feature.melspectrogram(y=y,sr=sr)\n",
        "  if ps.shape!=(128,128): continue\n",
        "  D.append((ps,row.classID))"
      ],
      "execution_count": 14,
      "outputs": []
    },
    {
      "cell_type": "code",
      "metadata": {
        "id": "-VqM2ZpuhJ3J",
        "colab": {
          "base_uri": "https://localhost:8080/"
        },
        "outputId": "29aa48ec-4a23-4f12-b69b-7626812f746e"
      },
      "source": [
        "len(D)"
      ],
      "execution_count": null,
      "outputs": [
        {
          "output_type": "execute_result",
          "data": {
            "text/plain": [
              "1597"
            ]
          },
          "metadata": {
            "tags": []
          },
          "execution_count": 12
        }
      ]
    },
    {
      "cell_type": "markdown",
      "metadata": {
        "id": "pT3vraC8A9iq"
      },
      "source": [
        "Splitting for training and testing"
      ]
    },
    {
      "cell_type": "code",
      "metadata": {
        "id": "pQ_owci_43e_"
      },
      "source": [
        "random.shuffle(D)\n",
        "train=D[:1500]\n",
        "test=D[1500:]\n",
        "x_train, y_train= zip(*train)\n",
        "x_test, y_test= zip(*test)"
      ],
      "execution_count": 15,
      "outputs": []
    },
    {
      "cell_type": "code",
      "metadata": {
        "colab": {
          "base_uri": "https://localhost:8080/"
        },
        "id": "Hp-_C3osHTY0",
        "outputId": "e6d7f4a3-ae1c-4f40-8d7d-999095b28d4f"
      },
      "source": [
        "y_train"
      ],
      "execution_count": 16,
      "outputs": [
        {
          "output_type": "execute_result",
          "data": {
            "text/plain": [
              "(5,\n",
              " 3,\n",
              " 1,\n",
              " 7,\n",
              " 3,\n",
              " 1,\n",
              " 0,\n",
              " 9,\n",
              " 8,\n",
              " 1,\n",
              " 0,\n",
              " 7,\n",
              " 8,\n",
              " 9,\n",
              " 4,\n",
              " 1,\n",
              " 7,\n",
              " 1,\n",
              " 4,\n",
              " 1,\n",
              " 8,\n",
              " 2,\n",
              " 9,\n",
              " 7,\n",
              " 8,\n",
              " 0,\n",
              " 2,\n",
              " 3,\n",
              " 9,\n",
              " 2,\n",
              " 2,\n",
              " 1,\n",
              " 7,\n",
              " 0,\n",
              " 7,\n",
              " 7,\n",
              " 9,\n",
              " 0,\n",
              " 8,\n",
              " 3,\n",
              " 8,\n",
              " 8,\n",
              " 9,\n",
              " 1,\n",
              " 5,\n",
              " 9,\n",
              " 5,\n",
              " 3,\n",
              " 8,\n",
              " 7,\n",
              " 0,\n",
              " 2,\n",
              " 2,\n",
              " 3,\n",
              " 1,\n",
              " 1,\n",
              " 8,\n",
              " 0,\n",
              " 4,\n",
              " 9,\n",
              " 8,\n",
              " 0,\n",
              " 5,\n",
              " 2,\n",
              " 5,\n",
              " 2,\n",
              " 9,\n",
              " 5,\n",
              " 2,\n",
              " 0,\n",
              " 4,\n",
              " 3,\n",
              " 5,\n",
              " 8,\n",
              " 9,\n",
              " 5,\n",
              " 3,\n",
              " 0,\n",
              " 4,\n",
              " 7,\n",
              " 4,\n",
              " 5,\n",
              " 5,\n",
              " 8,\n",
              " 7,\n",
              " 7,\n",
              " 9,\n",
              " 2,\n",
              " 4,\n",
              " 3,\n",
              " 4,\n",
              " 7,\n",
              " 1,\n",
              " 4,\n",
              " 4,\n",
              " 5,\n",
              " 8,\n",
              " 8,\n",
              " 1,\n",
              " 1,\n",
              " 7,\n",
              " 5,\n",
              " 3,\n",
              " 5,\n",
              " 5,\n",
              " 7,\n",
              " 3,\n",
              " 0,\n",
              " 4,\n",
              " 2,\n",
              " 2,\n",
              " 0,\n",
              " 0,\n",
              " 7,\n",
              " 9,\n",
              " 2,\n",
              " 9,\n",
              " 8,\n",
              " 3,\n",
              " 2,\n",
              " 3,\n",
              " 5,\n",
              " 5,\n",
              " 8,\n",
              " 9,\n",
              " 3,\n",
              " 1,\n",
              " 4,\n",
              " 7,\n",
              " 8,\n",
              " 9,\n",
              " 0,\n",
              " 5,\n",
              " 7,\n",
              " 2,\n",
              " 4,\n",
              " 8,\n",
              " 5,\n",
              " 0,\n",
              " 0,\n",
              " 2,\n",
              " 8,\n",
              " 8,\n",
              " 2,\n",
              " 3,\n",
              " 9,\n",
              " 2,\n",
              " 8,\n",
              " 2,\n",
              " 4,\n",
              " 9,\n",
              " 9,\n",
              " 5,\n",
              " 8,\n",
              " 2,\n",
              " 7,\n",
              " 9,\n",
              " 5,\n",
              " 1,\n",
              " 3,\n",
              " 8,\n",
              " 2,\n",
              " 2,\n",
              " 9,\n",
              " 8,\n",
              " 7,\n",
              " 0,\n",
              " 4,\n",
              " 7,\n",
              " 2,\n",
              " 5,\n",
              " 9,\n",
              " 0,\n",
              " 8,\n",
              " 0,\n",
              " 9,\n",
              " 4,\n",
              " 8,\n",
              " 8,\n",
              " 8,\n",
              " 1,\n",
              " 5,\n",
              " 7,\n",
              " 3,\n",
              " 5,\n",
              " 4,\n",
              " 2,\n",
              " 2,\n",
              " 2,\n",
              " 9,\n",
              " 9,\n",
              " 2,\n",
              " 5,\n",
              " 2,\n",
              " 9,\n",
              " 0,\n",
              " 3,\n",
              " 0,\n",
              " 5,\n",
              " 7,\n",
              " 0,\n",
              " 9,\n",
              " 9,\n",
              " 0,\n",
              " 1,\n",
              " 7,\n",
              " 4,\n",
              " 0,\n",
              " 8,\n",
              " 4,\n",
              " 0,\n",
              " 7,\n",
              " 9,\n",
              " 3,\n",
              " 7,\n",
              " 4,\n",
              " 8,\n",
              " 3,\n",
              " 9,\n",
              " 2,\n",
              " 9,\n",
              " 2,\n",
              " 5,\n",
              " 4,\n",
              " 9,\n",
              " 1,\n",
              " 2,\n",
              " 0,\n",
              " 5,\n",
              " 0,\n",
              " 3,\n",
              " 7,\n",
              " 9,\n",
              " 1,\n",
              " 2,\n",
              " 2,\n",
              " 7,\n",
              " 8,\n",
              " 8,\n",
              " 7,\n",
              " 8,\n",
              " 5,\n",
              " 9,\n",
              " 0,\n",
              " 9,\n",
              " 0,\n",
              " 2,\n",
              " 7,\n",
              " 2,\n",
              " 9,\n",
              " 7,\n",
              " 1,\n",
              " 9,\n",
              " 8,\n",
              " 8,\n",
              " 0,\n",
              " 2,\n",
              " 0,\n",
              " 1,\n",
              " 9,\n",
              " 2,\n",
              " 7,\n",
              " 5,\n",
              " 0,\n",
              " 3,\n",
              " 5,\n",
              " 2,\n",
              " 2,\n",
              " 4,\n",
              " 7,\n",
              " 3,\n",
              " 2,\n",
              " 7,\n",
              " 2,\n",
              " 9,\n",
              " 4,\n",
              " 5,\n",
              " 8,\n",
              " 7,\n",
              " 5,\n",
              " 8,\n",
              " 5,\n",
              " 2,\n",
              " 9,\n",
              " 0,\n",
              " 0,\n",
              " 0,\n",
              " 0,\n",
              " 8,\n",
              " 5,\n",
              " 4,\n",
              " 0,\n",
              " 4,\n",
              " 2,\n",
              " 2,\n",
              " 2,\n",
              " 3,\n",
              " 5,\n",
              " 9,\n",
              " 8,\n",
              " 2,\n",
              " 7,\n",
              " 0,\n",
              " 9,\n",
              " 1,\n",
              " 2,\n",
              " 0,\n",
              " 1,\n",
              " 5,\n",
              " 3,\n",
              " 8,\n",
              " 4,\n",
              " 5,\n",
              " 9,\n",
              " 7,\n",
              " 3,\n",
              " 8,\n",
              " 1,\n",
              " 0,\n",
              " 0,\n",
              " 9,\n",
              " 2,\n",
              " 8,\n",
              " 5,\n",
              " 4,\n",
              " 1,\n",
              " 2,\n",
              " 8,\n",
              " 2,\n",
              " 0,\n",
              " 2,\n",
              " 4,\n",
              " 8,\n",
              " 9,\n",
              " 0,\n",
              " 9,\n",
              " 2,\n",
              " 7,\n",
              " 7,\n",
              " 0,\n",
              " 4,\n",
              " 5,\n",
              " 5,\n",
              " 1,\n",
              " 0,\n",
              " 1,\n",
              " 9,\n",
              " 2,\n",
              " 2,\n",
              " 4,\n",
              " 3,\n",
              " 3,\n",
              " 8,\n",
              " 3,\n",
              " 0,\n",
              " 7,\n",
              " 4,\n",
              " 2,\n",
              " 0,\n",
              " 8,\n",
              " 4,\n",
              " 0,\n",
              " 0,\n",
              " 4,\n",
              " 7,\n",
              " 4,\n",
              " 3,\n",
              " 7,\n",
              " 1,\n",
              " 9,\n",
              " 1,\n",
              " 2,\n",
              " 8,\n",
              " 4,\n",
              " 5,\n",
              " 7,\n",
              " 7,\n",
              " 2,\n",
              " 1,\n",
              " 7,\n",
              " 3,\n",
              " 7,\n",
              " 9,\n",
              " 1,\n",
              " 8,\n",
              " 7,\n",
              " 9,\n",
              " 5,\n",
              " 4,\n",
              " 8,\n",
              " 8,\n",
              " 4,\n",
              " 7,\n",
              " 7,\n",
              " 1,\n",
              " 4,\n",
              " 9,\n",
              " 5,\n",
              " 4,\n",
              " 2,\n",
              " 5,\n",
              " 9,\n",
              " 5,\n",
              " 8,\n",
              " 8,\n",
              " 7,\n",
              " 9,\n",
              " 2,\n",
              " 0,\n",
              " 3,\n",
              " 5,\n",
              " 7,\n",
              " 5,\n",
              " 8,\n",
              " 8,\n",
              " 5,\n",
              " 3,\n",
              " 2,\n",
              " 9,\n",
              " 4,\n",
              " 3,\n",
              " 1,\n",
              " 7,\n",
              " 7,\n",
              " 5,\n",
              " 3,\n",
              " 2,\n",
              " 0,\n",
              " 0,\n",
              " 2,\n",
              " 2,\n",
              " 0,\n",
              " 9,\n",
              " 5,\n",
              " 5,\n",
              " 3,\n",
              " 8,\n",
              " 3,\n",
              " 0,\n",
              " 5,\n",
              " 9,\n",
              " 8,\n",
              " 2,\n",
              " 5,\n",
              " 3,\n",
              " 5,\n",
              " 7,\n",
              " 7,\n",
              " 9,\n",
              " 9,\n",
              " 7,\n",
              " 5,\n",
              " 5,\n",
              " 7,\n",
              " 5,\n",
              " 4,\n",
              " 4,\n",
              " 7,\n",
              " 5,\n",
              " 0,\n",
              " 7,\n",
              " 4,\n",
              " 9,\n",
              " 3,\n",
              " 8,\n",
              " 8,\n",
              " 2,\n",
              " 4,\n",
              " 7,\n",
              " 4,\n",
              " 3,\n",
              " 2,\n",
              " 5,\n",
              " 7,\n",
              " 2,\n",
              " 9,\n",
              " 3,\n",
              " 0,\n",
              " 0,\n",
              " 2,\n",
              " 9,\n",
              " 0,\n",
              " 9,\n",
              " 7,\n",
              " 5,\n",
              " 2,\n",
              " 2,\n",
              " 4,\n",
              " 1,\n",
              " 5,\n",
              " 0,\n",
              " 1,\n",
              " 5,\n",
              " 8,\n",
              " 8,\n",
              " 8,\n",
              " 5,\n",
              " 5,\n",
              " 5,\n",
              " 8,\n",
              " 0,\n",
              " 5,\n",
              " 9,\n",
              " 2,\n",
              " 8,\n",
              " 2,\n",
              " 8,\n",
              " 5,\n",
              " 0,\n",
              " 7,\n",
              " 4,\n",
              " 0,\n",
              " 8,\n",
              " 5,\n",
              " 8,\n",
              " 2,\n",
              " 3,\n",
              " 7,\n",
              " 7,\n",
              " 4,\n",
              " 5,\n",
              " 5,\n",
              " 5,\n",
              " 7,\n",
              " 5,\n",
              " 7,\n",
              " 2,\n",
              " 0,\n",
              " 8,\n",
              " 9,\n",
              " 3,\n",
              " 5,\n",
              " 8,\n",
              " 9,\n",
              " 5,\n",
              " 5,\n",
              " 7,\n",
              " 3,\n",
              " 8,\n",
              " 5,\n",
              " 0,\n",
              " 0,\n",
              " 3,\n",
              " 3,\n",
              " 5,\n",
              " 3,\n",
              " 4,\n",
              " 4,\n",
              " 9,\n",
              " 9,\n",
              " 2,\n",
              " 9,\n",
              " 9,\n",
              " 8,\n",
              " 7,\n",
              " 5,\n",
              " 9,\n",
              " 0,\n",
              " 1,\n",
              " 7,\n",
              " 8,\n",
              " 2,\n",
              " 5,\n",
              " 7,\n",
              " 9,\n",
              " 0,\n",
              " 8,\n",
              " 4,\n",
              " 2,\n",
              " 3,\n",
              " 8,\n",
              " 8,\n",
              " 9,\n",
              " 4,\n",
              " 3,\n",
              " 7,\n",
              " 4,\n",
              " 1,\n",
              " 9,\n",
              " 2,\n",
              " 1,\n",
              " 8,\n",
              " 5,\n",
              " 7,\n",
              " 0,\n",
              " 5,\n",
              " 5,\n",
              " 4,\n",
              " 7,\n",
              " 3,\n",
              " 7,\n",
              " 9,\n",
              " 8,\n",
              " 4,\n",
              " 9,\n",
              " 3,\n",
              " 2,\n",
              " 3,\n",
              " 5,\n",
              " 8,\n",
              " 5,\n",
              " 1,\n",
              " 1,\n",
              " 8,\n",
              " 9,\n",
              " 0,\n",
              " 0,\n",
              " 2,\n",
              " 9,\n",
              " 0,\n",
              " 7,\n",
              " 7,\n",
              " 2,\n",
              " 1,\n",
              " 7,\n",
              " 1,\n",
              " 7,\n",
              " 4,\n",
              " 8,\n",
              " 0,\n",
              " 9,\n",
              " 4,\n",
              " 9,\n",
              " 5,\n",
              " 7,\n",
              " 3,\n",
              " 9,\n",
              " 3,\n",
              " 0,\n",
              " 4,\n",
              " 0,\n",
              " 7,\n",
              " 7,\n",
              " 2,\n",
              " 5,\n",
              " 4,\n",
              " 4,\n",
              " 9,\n",
              " 0,\n",
              " 0,\n",
              " 9,\n",
              " 9,\n",
              " 9,\n",
              " 9,\n",
              " 7,\n",
              " 1,\n",
              " 7,\n",
              " 7,\n",
              " 3,\n",
              " 9,\n",
              " 4,\n",
              " 8,\n",
              " 5,\n",
              " 2,\n",
              " 2,\n",
              " 0,\n",
              " 0,\n",
              " 3,\n",
              " 9,\n",
              " 8,\n",
              " 9,\n",
              " 5,\n",
              " 8,\n",
              " 7,\n",
              " 0,\n",
              " 4,\n",
              " 9,\n",
              " 2,\n",
              " 0,\n",
              " 0,\n",
              " 0,\n",
              " 7,\n",
              " 0,\n",
              " 0,\n",
              " 3,\n",
              " 1,\n",
              " 5,\n",
              " 4,\n",
              " 5,\n",
              " 9,\n",
              " 5,\n",
              " 9,\n",
              " 9,\n",
              " 0,\n",
              " 7,\n",
              " 7,\n",
              " 3,\n",
              " 8,\n",
              " 2,\n",
              " 4,\n",
              " 8,\n",
              " 8,\n",
              " 1,\n",
              " 8,\n",
              " 5,\n",
              " 8,\n",
              " 0,\n",
              " 9,\n",
              " 7,\n",
              " 1,\n",
              " 1,\n",
              " 3,\n",
              " 5,\n",
              " 0,\n",
              " 2,\n",
              " 0,\n",
              " 2,\n",
              " 9,\n",
              " 8,\n",
              " 7,\n",
              " 1,\n",
              " 2,\n",
              " 8,\n",
              " 7,\n",
              " 7,\n",
              " 1,\n",
              " 9,\n",
              " 9,\n",
              " 5,\n",
              " 1,\n",
              " 5,\n",
              " 9,\n",
              " 8,\n",
              " 2,\n",
              " 9,\n",
              " 1,\n",
              " 9,\n",
              " 4,\n",
              " 8,\n",
              " 8,\n",
              " 7,\n",
              " 5,\n",
              " 8,\n",
              " 5,\n",
              " 9,\n",
              " 8,\n",
              " 8,\n",
              " 2,\n",
              " 5,\n",
              " 4,\n",
              " 2,\n",
              " 2,\n",
              " 7,\n",
              " 0,\n",
              " 3,\n",
              " 3,\n",
              " 2,\n",
              " 0,\n",
              " 2,\n",
              " 8,\n",
              " 8,\n",
              " 8,\n",
              " 5,\n",
              " 9,\n",
              " 7,\n",
              " 5,\n",
              " 5,\n",
              " 2,\n",
              " 2,\n",
              " 7,\n",
              " 4,\n",
              " 8,\n",
              " 0,\n",
              " 9,\n",
              " 8,\n",
              " 0,\n",
              " 2,\n",
              " 8,\n",
              " 7,\n",
              " 0,\n",
              " 2,\n",
              " 4,\n",
              " 8,\n",
              " 5,\n",
              " 5,\n",
              " 4,\n",
              " 1,\n",
              " 3,\n",
              " 7,\n",
              " 0,\n",
              " 5,\n",
              " 8,\n",
              " 0,\n",
              " 1,\n",
              " 0,\n",
              " 7,\n",
              " 4,\n",
              " 8,\n",
              " 2,\n",
              " 2,\n",
              " 0,\n",
              " 0,\n",
              " 5,\n",
              " 8,\n",
              " 2,\n",
              " 5,\n",
              " 8,\n",
              " 2,\n",
              " 3,\n",
              " 3,\n",
              " 8,\n",
              " 4,\n",
              " 8,\n",
              " 5,\n",
              " 9,\n",
              " 9,\n",
              " 9,\n",
              " 8,\n",
              " 5,\n",
              " 0,\n",
              " 9,\n",
              " 7,\n",
              " 3,\n",
              " 9,\n",
              " 0,\n",
              " 9,\n",
              " 5,\n",
              " 9,\n",
              " 9,\n",
              " 0,\n",
              " 4,\n",
              " 7,\n",
              " 1,\n",
              " 2,\n",
              " 5,\n",
              " 7,\n",
              " 5,\n",
              " 5,\n",
              " 3,\n",
              " 4,\n",
              " 7,\n",
              " 3,\n",
              " 5,\n",
              " 9,\n",
              " 8,\n",
              " 7,\n",
              " 0,\n",
              " 8,\n",
              " 3,\n",
              " 5,\n",
              " 4,\n",
              " 0,\n",
              " 0,\n",
              " 3,\n",
              " 5,\n",
              " 4,\n",
              " 3,\n",
              " 8,\n",
              " 1,\n",
              " 7,\n",
              " 5,\n",
              " 0,\n",
              " 7,\n",
              " 2,\n",
              " 8,\n",
              " 2,\n",
              " 2,\n",
              " 8,\n",
              " 7,\n",
              " 0,\n",
              " 0,\n",
              " 0,\n",
              " 7,\n",
              " 5,\n",
              " 1,\n",
              " 8,\n",
              " 0,\n",
              " 7,\n",
              " 5,\n",
              " 2,\n",
              " 0,\n",
              " 4,\n",
              " 5,\n",
              " 7,\n",
              " 4,\n",
              " 9,\n",
              " 4,\n",
              " 0,\n",
              " 5,\n",
              " 4,\n",
              " 7,\n",
              " 8,\n",
              " 7,\n",
              " 0,\n",
              " 9,\n",
              " 1,\n",
              " 7,\n",
              " 0,\n",
              " 2,\n",
              " 9,\n",
              " 1,\n",
              " 8,\n",
              " 5,\n",
              " 2,\n",
              " 5,\n",
              " 9,\n",
              " 5,\n",
              " 7,\n",
              " 7,\n",
              " 5,\n",
              " 4,\n",
              " 2,\n",
              " 5,\n",
              " 4,\n",
              " 1,\n",
              " 2,\n",
              " 0,\n",
              " 0,\n",
              " 9,\n",
              " 7,\n",
              " 9,\n",
              " 7,\n",
              " 2,\n",
              " 8,\n",
              " 0,\n",
              " 8,\n",
              " 9,\n",
              " 0,\n",
              " 2,\n",
              " 7,\n",
              " 7,\n",
              " 7,\n",
              " 3,\n",
              " 8,\n",
              " 9,\n",
              " 9,\n",
              " 9,\n",
              " 3,\n",
              " 2,\n",
              " 2,\n",
              " 8,\n",
              " 2,\n",
              " 4,\n",
              " 3,\n",
              " 7,\n",
              " 5,\n",
              " 3,\n",
              " 8,\n",
              " 7,\n",
              " 2,\n",
              " 5,\n",
              " 9,\n",
              " 2,\n",
              " 4,\n",
              " 7,\n",
              " 0,\n",
              " 9,\n",
              " 5,\n",
              " 3,\n",
              " 0,\n",
              " 7,\n",
              " 7,\n",
              " 3,\n",
              " 0,\n",
              " 1,\n",
              " 7,\n",
              " 7,\n",
              " 7,\n",
              " 7,\n",
              " 1,\n",
              " 4,\n",
              " 4,\n",
              " 9,\n",
              " 0,\n",
              " 7,\n",
              " 2,\n",
              " 9,\n",
              " 7,\n",
              " 9,\n",
              " 4,\n",
              " 2,\n",
              " 7,\n",
              " 0,\n",
              " 3,\n",
              " 2,\n",
              " 3,\n",
              " 5,\n",
              " 1,\n",
              " 8,\n",
              " 2,\n",
              " 4,\n",
              " 7,\n",
              " 3,\n",
              " 3,\n",
              " 1,\n",
              " 3,\n",
              " 8,\n",
              " 2,\n",
              " 2,\n",
              " 3,\n",
              " 7,\n",
              " 4,\n",
              " 7,\n",
              " 9,\n",
              " 9,\n",
              " 3,\n",
              " 4,\n",
              " 5,\n",
              " 0,\n",
              " 0,\n",
              " ...)"
            ]
          },
          "metadata": {
            "tags": []
          },
          "execution_count": 16
        }
      ]
    },
    {
      "cell_type": "code",
      "metadata": {
        "id": "7rBWbQWQHSXP"
      },
      "source": [
        ""
      ],
      "execution_count": null,
      "outputs": []
    },
    {
      "cell_type": "markdown",
      "metadata": {
        "id": "XZxJvkm59MSe"
      },
      "source": [
        "Reshaping for CNN input"
      ]
    },
    {
      "cell_type": "code",
      "metadata": {
        "id": "YMDw0l9Q9Q6i"
      },
      "source": [
        "x_train=np.array([x.reshape( (128,128,1) ) for x in x_train])\n",
        "x_test=np.array([x.reshape( (128,128,1) ) for x in x_test])"
      ],
      "execution_count": 17,
      "outputs": []
    },
    {
      "cell_type": "markdown",
      "metadata": {
        "id": "8LHUnjnsAPia"
      },
      "source": [
        "One-Hot encoding for classes"
      ]
    },
    {
      "cell_type": "code",
      "metadata": {
        "id": "dFjeqwOTAU4h"
      },
      "source": [
        "y_train=np.array(keras.utils.to_categorical(y_train,10))\n",
        "y_test=np.array(keras.utils.to_categorical(y_test,10))"
      ],
      "execution_count": 18,
      "outputs": []
    },
    {
      "cell_type": "code",
      "metadata": {
        "colab": {
          "base_uri": "https://localhost:8080/"
        },
        "id": "vuA9JR-QGVAU",
        "outputId": "bbde8e82-054e-4499-f635-e67c6a7cd3c9"
      },
      "source": [
        "y_train"
      ],
      "execution_count": 19,
      "outputs": [
        {
          "output_type": "execute_result",
          "data": {
            "text/plain": [
              "array([[0., 0., 0., ..., 0., 0., 0.],\n",
              "       [0., 0., 0., ..., 0., 0., 0.],\n",
              "       [0., 1., 0., ..., 0., 0., 0.],\n",
              "       ...,\n",
              "       [0., 0., 0., ..., 0., 0., 0.],\n",
              "       [1., 0., 0., ..., 0., 0., 0.],\n",
              "       [0., 0., 0., ..., 1., 0., 0.]], dtype=float32)"
            ]
          },
          "metadata": {
            "tags": []
          },
          "execution_count": 19
        }
      ]
    },
    {
      "cell_type": "code",
      "metadata": {
        "id": "A-7It2Joswef",
        "colab": {
          "base_uri": "https://localhost:8080/"
        },
        "outputId": "2c46f994-df48-4a81-a12b-bbb9037fda00"
      },
      "source": [
        "len(y_train[0])"
      ],
      "execution_count": 20,
      "outputs": [
        {
          "output_type": "execute_result",
          "data": {
            "text/plain": [
              "10"
            ]
          },
          "metadata": {
            "tags": []
          },
          "execution_count": 20
        }
      ]
    },
    {
      "cell_type": "markdown",
      "metadata": {
        "id": "gEM-sEf2A37f"
      },
      "source": [
        "Training the Model"
      ]
    },
    {
      "cell_type": "code",
      "metadata": {
        "id": "eXZOewAyA68A"
      },
      "source": [
        "model=Sequential()\n",
        "input_shape=(128,128,1)\n",
        "\n",
        "model.add(Conv2D(24,kernel_size=(5,5),strides=(1,1),input_shape=input_shape))\n",
        "model.add(MaxPooling2D((4,2),strides=(4,2)))\n",
        "model.add(Activation('relu'))\n",
        "\n",
        "model.add(Conv2D(48,kernel_size=(5,5),padding='valid'))\n",
        "model.add(MaxPooling2D((4,2),strides=(4,2)))\n",
        "model.add(Activation('relu'))\n",
        "\n",
        "model.add(Conv2D(48,kernel_size=(5,5),padding='valid'))\n",
        "model.add(Activation('relu'))\n",
        "\n",
        "model.add(Flatten())\n",
        "model.add(Dropout(rate=0.5))\n",
        "\n",
        "model.add(Dense(64))\n",
        "model.add(Activation('relu'))\n",
        "model.add(Dropout(rate=0.5))\n",
        "\n",
        "model.add(Dense(10))\n",
        "model.add(Activation('softmax'))\n"
      ],
      "execution_count": 21,
      "outputs": []
    },
    {
      "cell_type": "code",
      "metadata": {
        "id": "EGb2shcrFxbq",
        "colab": {
          "base_uri": "https://localhost:8080/"
        },
        "outputId": "af244356-2491-403b-b879-0293d91edf54"
      },
      "source": [
        "model.compile(\n",
        "    optimizer='Adam',\n",
        "    loss='categorical_crossentropy',\n",
        "    metrics=['accuracy'])\n",
        "model.fit(\n",
        "    x=x_train,\n",
        "    y=y_train,\n",
        "    epochs=15,\n",
        "    batch_size=128,\n",
        "    validation_data=(x_test,y_test))"
      ],
      "execution_count": 22,
      "outputs": [
        {
          "output_type": "stream",
          "text": [
            "Epoch 1/15\n",
            "12/12 [==============================] - 26s 2s/step - loss: 7.7932 - accuracy: 0.1384 - val_loss: 2.2265 - val_accuracy: 0.2371\n",
            "Epoch 2/15\n",
            "12/12 [==============================] - 24s 2s/step - loss: 2.5675 - accuracy: 0.2152 - val_loss: 2.1636 - val_accuracy: 0.2268\n",
            "Epoch 3/15\n",
            "12/12 [==============================] - 24s 2s/step - loss: 2.2730 - accuracy: 0.2439 - val_loss: 2.0662 - val_accuracy: 0.3196\n",
            "Epoch 4/15\n",
            "12/12 [==============================] - 24s 2s/step - loss: 2.1483 - accuracy: 0.2919 - val_loss: 2.0543 - val_accuracy: 0.3093\n",
            "Epoch 5/15\n",
            "12/12 [==============================] - 24s 2s/step - loss: 2.0833 - accuracy: 0.2917 - val_loss: 1.9724 - val_accuracy: 0.3402\n",
            "Epoch 6/15\n",
            "12/12 [==============================] - 24s 2s/step - loss: 2.0372 - accuracy: 0.3184 - val_loss: 1.8833 - val_accuracy: 0.3505\n",
            "Epoch 7/15\n",
            "12/12 [==============================] - 24s 2s/step - loss: 1.9401 - accuracy: 0.3224 - val_loss: 1.8169 - val_accuracy: 0.3711\n",
            "Epoch 8/15\n",
            "12/12 [==============================] - 24s 2s/step - loss: 1.8884 - accuracy: 0.3688 - val_loss: 1.7724 - val_accuracy: 0.4227\n",
            "Epoch 9/15\n",
            "12/12 [==============================] - 24s 2s/step - loss: 1.7789 - accuracy: 0.3667 - val_loss: 1.6509 - val_accuracy: 0.4948\n",
            "Epoch 10/15\n",
            "12/12 [==============================] - 27s 2s/step - loss: 1.7610 - accuracy: 0.3814 - val_loss: 1.5880 - val_accuracy: 0.5155\n",
            "Epoch 11/15\n",
            "12/12 [==============================] - 24s 2s/step - loss: 1.7568 - accuracy: 0.4032 - val_loss: 1.4796 - val_accuracy: 0.5464\n",
            "Epoch 12/15\n",
            "12/12 [==============================] - 24s 2s/step - loss: 1.5841 - accuracy: 0.4526 - val_loss: 1.3794 - val_accuracy: 0.5773\n",
            "Epoch 13/15\n",
            "12/12 [==============================] - 24s 2s/step - loss: 1.4604 - accuracy: 0.4998 - val_loss: 1.3350 - val_accuracy: 0.5464\n",
            "Epoch 14/15\n",
            "12/12 [==============================] - 24s 2s/step - loss: 1.4471 - accuracy: 0.5056 - val_loss: 1.2584 - val_accuracy: 0.5464\n",
            "Epoch 15/15\n",
            "12/12 [==============================] - 24s 2s/step - loss: 1.4355 - accuracy: 0.5214 - val_loss: 1.2183 - val_accuracy: 0.5670\n"
          ],
          "name": "stdout"
        },
        {
          "output_type": "execute_result",
          "data": {
            "text/plain": [
              "<tensorflow.python.keras.callbacks.History at 0x7fe4e29ebfd0>"
            ]
          },
          "metadata": {
            "tags": []
          },
          "execution_count": 22
        }
      ]
    },
    {
      "cell_type": "code",
      "metadata": {
        "id": "2lVXiK6ynuk5",
        "colab": {
          "base_uri": "https://localhost:8080/"
        },
        "outputId": "4230fc29-a9f0-4d83-91b3-53d44371cc71"
      },
      "source": [
        "model.summary()"
      ],
      "execution_count": 23,
      "outputs": [
        {
          "output_type": "stream",
          "text": [
            "Model: \"sequential\"\n",
            "_________________________________________________________________\n",
            "Layer (type)                 Output Shape              Param #   \n",
            "=================================================================\n",
            "conv2d (Conv2D)              (None, 124, 124, 24)      624       \n",
            "_________________________________________________________________\n",
            "max_pooling2d (MaxPooling2D) (None, 31, 62, 24)        0         \n",
            "_________________________________________________________________\n",
            "activation (Activation)      (None, 31, 62, 24)        0         \n",
            "_________________________________________________________________\n",
            "conv2d_1 (Conv2D)            (None, 27, 58, 48)        28848     \n",
            "_________________________________________________________________\n",
            "max_pooling2d_1 (MaxPooling2 (None, 6, 29, 48)         0         \n",
            "_________________________________________________________________\n",
            "activation_1 (Activation)    (None, 6, 29, 48)         0         \n",
            "_________________________________________________________________\n",
            "conv2d_2 (Conv2D)            (None, 2, 25, 48)         57648     \n",
            "_________________________________________________________________\n",
            "activation_2 (Activation)    (None, 2, 25, 48)         0         \n",
            "_________________________________________________________________\n",
            "flatten (Flatten)            (None, 2400)              0         \n",
            "_________________________________________________________________\n",
            "dropout (Dropout)            (None, 2400)              0         \n",
            "_________________________________________________________________\n",
            "dense (Dense)                (None, 64)                153664    \n",
            "_________________________________________________________________\n",
            "activation_3 (Activation)    (None, 64)                0         \n",
            "_________________________________________________________________\n",
            "dropout_1 (Dropout)          (None, 64)                0         \n",
            "_________________________________________________________________\n",
            "dense_1 (Dense)              (None, 10)                650       \n",
            "_________________________________________________________________\n",
            "activation_4 (Activation)    (None, 10)                0         \n",
            "=================================================================\n",
            "Total params: 241,434\n",
            "Trainable params: 241,434\n",
            "Non-trainable params: 0\n",
            "_________________________________________________________________\n"
          ],
          "name": "stdout"
        }
      ]
    },
    {
      "cell_type": "code",
      "metadata": {
        "id": "feSPQyXILuDO"
      },
      "source": [
        "pred=model.predict(x_test)"
      ],
      "execution_count": 24,
      "outputs": []
    },
    {
      "cell_type": "markdown",
      "metadata": {
        "id": "zviYAd6Xa6-L"
      },
      "source": [
        "Defining function for finding the accuracy"
      ]
    },
    {
      "cell_type": "code",
      "metadata": {
        "id": "jtznU2XkR5vo",
        "colab": {
          "base_uri": "https://localhost:8080/"
        },
        "outputId": "c51f02aa-ec14-4fc6-9854-6caf881c6356"
      },
      "source": [
        "def predict(x):\n",
        "  for i in range(len(x)):\n",
        "    max_prob=max(x[i])\n",
        "    for j in range(len(x[i])):\n",
        "      if x[i][j]==max_prob:\n",
        "        x[i][j]=1\n",
        "      else:\n",
        "        x[i][j]=0\n",
        "  return(x)\n",
        "def performance(x,y):\n",
        "  arr= np.sum(abs(x - y), axis = 1)\n",
        "  arr=list(arr)\n",
        "  zero=arr.count(0)\n",
        "  accuracy=zero/len(arr)\n",
        "  return(accuracy)\n",
        "y_pred=predict(pred)\n",
        "accuracy=performance(y_pred,y_test)\n",
        "accuracy"
      ],
      "execution_count": 25,
      "outputs": [
        {
          "output_type": "execute_result",
          "data": {
            "text/plain": [
              "0.5670103092783505"
            ]
          },
          "metadata": {
            "tags": []
          },
          "execution_count": 25
        }
      ]
    },
    {
      "cell_type": "markdown",
      "metadata": {
        "id": "R7k0KFiNIOlg"
      },
      "source": [
        "#Few Shot Learning\n"
      ]
    },
    {
      "cell_type": "code",
      "metadata": {
        "id": "TlMu7REQINP_"
      },
      "source": [
        "import keras \n",
        "from keras.layers import Activation, Dense, Dropout, Flatten\n",
        "from tensorflow.keras.layers import Conv2D, MaxPooling2D\n",
        "from keras.models import Sequential\n",
        "import librosa\n",
        "import librosa.display\n",
        "import numpy as np\n",
        "import pandas as pd\n",
        "import random\n",
        "import warnings\n",
        "import io\n",
        "warnings.filterwarnings('ignore')\n",
        "from tensorflow.keras.datasets import mnist\n",
        "from imutils import build_montages\n",
        "import numpy as np\n",
        "import cv2\n",
        "import sys\n",
        "import os\n",
        "import tensorflow.keras.backend as K"
      ],
      "execution_count": 36,
      "outputs": []
    },
    {
      "cell_type": "code",
      "metadata": {
        "id": "seqa1rT4INfV",
        "colab": {
          "resources": {
            "http://localhost:8080/nbextensions/google.colab/files.js": {
              "data": "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",
              "ok": true,
              "headers": [
                [
                  "content-type",
                  "application/javascript"
                ]
              ],
              "status": 200,
              "status_text": ""
            }
          },
          "base_uri": "https://localhost:8080/",
          "height": 73
        },
        "outputId": "9976ca41-87d0-491b-d663-f9c5164a331c"
      },
      "source": [
        "from google.colab import files \n",
        "uploaded = files.upload()"
      ],
      "execution_count": 37,
      "outputs": [
        {
          "output_type": "display_data",
          "data": {
            "text/html": [
              "\n",
              "     <input type=\"file\" id=\"files-1f855ebb-6a6d-45f0-af3b-39998716747e\" name=\"files[]\" multiple disabled\n",
              "        style=\"border:none\" />\n",
              "     <output id=\"result-1f855ebb-6a6d-45f0-af3b-39998716747e\">\n",
              "      Upload widget is only available when the cell has been executed in the\n",
              "      current browser session. Please rerun this cell to enable.\n",
              "      </output>\n",
              "      <script src=\"/nbextensions/google.colab/files.js\"></script> "
            ],
            "text/plain": [
              "<IPython.core.display.HTML object>"
            ]
          },
          "metadata": {
            "tags": []
          }
        },
        {
          "output_type": "stream",
          "text": [
            "Saving fsl.csv to fsl.csv\n"
          ],
          "name": "stdout"
        }
      ]
    },
    {
      "cell_type": "code",
      "metadata": {
        "id": "TZ8VQHNJINi_",
        "colab": {
          "base_uri": "https://localhost:8080/",
          "height": 198
        },
        "outputId": "612d5fcf-c7d9-4a13-d498-8877c9a7431b"
      },
      "source": [
        "df = pd.read_csv(io.BytesIO(uploaded['fsl.csv']))\n",
        "data=df[['slice_file_name','fold','classID','class']]\n",
        "data.head()"
      ],
      "execution_count": 38,
      "outputs": [
        {
          "output_type": "execute_result",
          "data": {
            "text/html": [
              "<div>\n",
              "<style scoped>\n",
              "    .dataframe tbody tr th:only-of-type {\n",
              "        vertical-align: middle;\n",
              "    }\n",
              "\n",
              "    .dataframe tbody tr th {\n",
              "        vertical-align: top;\n",
              "    }\n",
              "\n",
              "    .dataframe thead th {\n",
              "        text-align: right;\n",
              "    }\n",
              "</style>\n",
              "<table border=\"1\" class=\"dataframe\">\n",
              "  <thead>\n",
              "    <tr style=\"text-align: right;\">\n",
              "      <th></th>\n",
              "      <th>slice_file_name</th>\n",
              "      <th>fold</th>\n",
              "      <th>classID</th>\n",
              "      <th>class</th>\n",
              "    </tr>\n",
              "  </thead>\n",
              "  <tbody>\n",
              "    <tr>\n",
              "      <th>0</th>\n",
              "      <td>100852-0-0-0.wav</td>\n",
              "      <td>5</td>\n",
              "      <td>0</td>\n",
              "      <td>air_conditioner</td>\n",
              "    </tr>\n",
              "    <tr>\n",
              "      <th>1</th>\n",
              "      <td>100852-0-0-1.wav</td>\n",
              "      <td>5</td>\n",
              "      <td>0</td>\n",
              "      <td>air_conditioner</td>\n",
              "    </tr>\n",
              "    <tr>\n",
              "      <th>2</th>\n",
              "      <td>100852-0-0-10.wav</td>\n",
              "      <td>5</td>\n",
              "      <td>0</td>\n",
              "      <td>air_conditioner</td>\n",
              "    </tr>\n",
              "    <tr>\n",
              "      <th>3</th>\n",
              "      <td>100263-2-0-121.wav</td>\n",
              "      <td>5</td>\n",
              "      <td>2</td>\n",
              "      <td>children_playing</td>\n",
              "    </tr>\n",
              "    <tr>\n",
              "      <th>4</th>\n",
              "      <td>100263-2-0-126.wav</td>\n",
              "      <td>5</td>\n",
              "      <td>2</td>\n",
              "      <td>children_playing</td>\n",
              "    </tr>\n",
              "  </tbody>\n",
              "</table>\n",
              "</div>"
            ],
            "text/plain": [
              "      slice_file_name  fold  classID             class\n",
              "0    100852-0-0-0.wav     5        0   air_conditioner\n",
              "1    100852-0-0-1.wav     5        0   air_conditioner\n",
              "2   100852-0-0-10.wav     5        0   air_conditioner\n",
              "3  100263-2-0-121.wav     5        2  children_playing\n",
              "4  100263-2-0-126.wav     5        2  children_playing"
            ]
          },
          "metadata": {
            "tags": []
          },
          "execution_count": 38
        }
      ]
    },
    {
      "cell_type": "code",
      "metadata": {
        "id": "bf7B6ouqINmU",
        "colab": {
          "base_uri": "https://localhost:8080/"
        },
        "outputId": "2010f633-d109-4934-b13e-6e2fc2422308"
      },
      "source": [
        "from google.colab import drive\n",
        "drive.mount(\"/content/gdrive\")"
      ],
      "execution_count": 39,
      "outputs": [
        {
          "output_type": "stream",
          "text": [
            "Drive already mounted at /content/gdrive; to attempt to forcibly remount, call drive.mount(\"/content/gdrive\", force_remount=True).\n"
          ],
          "name": "stdout"
        }
      ]
    },
    {
      "cell_type": "code",
      "metadata": {
        "id": "Z0TFmZArINpU",
        "colab": {
          "base_uri": "https://localhost:8080/"
        },
        "outputId": "48f5e3d7-93cd-4945-ce63-9fdaa2f9e437"
      },
      "source": [
        "array = [3,5]\n",
        "data=data.loc[data['fold'].isin(array)]\n",
        "data['path']='fold'+data['fold'].astype('str')+'/'+data['slice_file_name'].astype('str')\n",
        "len(data)"
      ],
      "execution_count": 40,
      "outputs": [
        {
          "output_type": "execute_result",
          "data": {
            "text/plain": [
              "30"
            ]
          },
          "metadata": {
            "tags": []
          },
          "execution_count": 40
        }
      ]
    },
    {
      "cell_type": "code",
      "metadata": {
        "id": "mRPyUqhDY1N5"
      },
      "source": [
        "D=[]\n",
        "for row in data.itertuples():\n",
        "  y,sr=librosa.load('/content/gdrive/My Drive/'+ row.path,duration=2.97)\n",
        "  ps=librosa.feature.melspectrogram(y=y,sr=sr)\n",
        "  if ps.shape!=(128,128): continue\n",
        "  D.append((ps,row.classID))"
      ],
      "execution_count": 41,
      "outputs": []
    },
    {
      "cell_type": "code",
      "metadata": {
        "id": "LskXP0jxm604"
      },
      "source": [
        "random.shuffle(D)\n",
        "train=D\n",
        "x_train, y_train= zip(*train)\n",
        "x_train=np.array([x.reshape( (128,128,1) ) for x in x_train])"
      ],
      "execution_count": 42,
      "outputs": []
    },
    {
      "cell_type": "code",
      "metadata": {
        "colab": {
          "base_uri": "https://localhost:8080/"
        },
        "id": "za8JvMaRWbQJ",
        "outputId": "43a0e6e2-a60e-4c4d-f0df-00a811368af7"
      },
      "source": [
        "idx = [np.where(np.array(y_train)==i)[0] for i in range(0, 10)]\n",
        "idx"
      ],
      "execution_count": 43,
      "outputs": [
        {
          "output_type": "execute_result",
          "data": {
            "text/plain": [
              "[array([13, 21, 24]),\n",
              " array([0, 5, 8]),\n",
              " array([ 1, 11, 23]),\n",
              " array([ 3, 12, 20]),\n",
              " array([2, 4, 7]),\n",
              " array([ 9, 10, 19]),\n",
              " array([], dtype=int64),\n",
              " array([ 6, 22, 26]),\n",
              " array([15, 17, 25]),\n",
              " array([14, 16, 18])]"
            ]
          },
          "metadata": {
            "tags": []
          },
          "execution_count": 43
        }
      ]
    },
    {
      "cell_type": "code",
      "metadata": {
        "id": "tzSYA-wKINrM"
      },
      "source": [
        "pairImages = []\n",
        "pairLabels = []\n",
        "a=[0,1,2,3,4,5,7,8,9]\n",
        "# loop over all images\n",
        "for i in a:\n",
        "  label=idx[i][0]\n",
        "  currentImage=x_train[label]\n",
        "  label2=idx[i][1]\n",
        "  posImage=x_train[label2]\n",
        "  pairImages.append([currentImage, posImage])\n",
        "  pairLabels.append([1])\n",
        "   \n",
        "  # Neg sample 1\n",
        "  negIdx = np.where(y_train != i)[0]\n",
        "  negImage = x_train[np.random.choice(negIdx)]\n",
        "  pairImages.append([currentImage, negImage])\n",
        "  pairLabels.append([0])\n",
        " \n",
        "  # Positive sample 2\n",
        "  label1= idx[i][0]\n",
        "  currentImage = x_train[label1]\n",
        "  label2= idx[i][2]\n",
        "  posImage = x_train[label2]\n",
        "  pairImages.append([currentImage, posImage])\n",
        "  pairLabels.append([1])\n",
        "\n",
        "  # Negative Sample 2\n",
        "  negIdx = np.where(y_train != i)[0]\n",
        "  negImage = x_train[np.random.choice(negIdx)]\n",
        "  pairImages.append([currentImage, negImage])\n",
        "  pairLabels.append([0])"
      ],
      "execution_count": 44,
      "outputs": []
    },
    {
      "cell_type": "markdown",
      "metadata": {
        "id": "EZ0j70N6IB0d"
      },
      "source": [
        ""
      ]
    },
    {
      "cell_type": "code",
      "metadata": {
        "id": "FLTH4g2fRpjb"
      },
      "source": [
        ""
      ],
      "execution_count": 78,
      "outputs": []
    },
    {
      "cell_type": "code",
      "metadata": {
        "id": "ojWtojl2txj3"
      },
      "source": [
        "x1=[]\n",
        "x2=[]\n",
        "for i in range(36):\n",
        "  x1.append(pairImages[i][0])\n",
        "  x2.append(pairImages[i][1])\n"
      ],
      "execution_count": 45,
      "outputs": []
    },
    {
      "cell_type": "code",
      "metadata": {
        "id": "LVeQ5WT1quKW"
      },
      "source": [
        "x1=np.array(x1)\n",
        "x2=np.array(x2)"
      ],
      "execution_count": 46,
      "outputs": []
    },
    {
      "cell_type": "markdown",
      "metadata": {
        "id": "aDP-u38qeekh"
      },
      "source": [
        "Preparing Testing Data\n"
      ]
    },
    {
      "cell_type": "code",
      "metadata": {
        "id": "qGaUPJwIedib",
        "outputId": "54ad66ed-9d2d-4115-c38a-3ed275d4c0be",
        "colab": {
          "resources": {
            "http://localhost:8080/nbextensions/google.colab/files.js": {
              "data": "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",
              "ok": true,
              "headers": [
                [
                  "content-type",
                  "application/javascript"
                ]
              ],
              "status": 200,
              "status_text": ""
            }
          },
          "base_uri": "https://localhost:8080/",
          "height": 73
        }
      },
      "source": [
        "from google.colab import files \n",
        "uploaded = files.upload()"
      ],
      "execution_count": 47,
      "outputs": [
        {
          "output_type": "display_data",
          "data": {
            "text/html": [
              "\n",
              "     <input type=\"file\" id=\"files-b4bf3b95-dd3d-4103-81b2-a824afdacc35\" name=\"files[]\" multiple disabled\n",
              "        style=\"border:none\" />\n",
              "     <output id=\"result-b4bf3b95-dd3d-4103-81b2-a824afdacc35\">\n",
              "      Upload widget is only available when the cell has been executed in the\n",
              "      current browser session. Please rerun this cell to enable.\n",
              "      </output>\n",
              "      <script src=\"/nbextensions/google.colab/files.js\"></script> "
            ],
            "text/plain": [
              "<IPython.core.display.HTML object>"
            ]
          },
          "metadata": {
            "tags": []
          }
        },
        {
          "output_type": "stream",
          "text": [
            "Saving fsl_testing.csv to fsl_testing.csv\n"
          ],
          "name": "stdout"
        }
      ]
    },
    {
      "cell_type": "code",
      "metadata": {
        "id": "SWBuVijDeqTA",
        "outputId": "887ba360-d3ab-4fc7-c6c0-0febc0714adb",
        "colab": {
          "base_uri": "https://localhost:8080/",
          "height": 198
        }
      },
      "source": [
        "df1 = pd.read_csv(io.BytesIO(uploaded['fsl_testing.csv']))\n",
        "data1=df1[['slice_file_name','fold','classID','class']]\n",
        "data1.head()"
      ],
      "execution_count": 48,
      "outputs": [
        {
          "output_type": "execute_result",
          "data": {
            "text/html": [
              "<div>\n",
              "<style scoped>\n",
              "    .dataframe tbody tr th:only-of-type {\n",
              "        vertical-align: middle;\n",
              "    }\n",
              "\n",
              "    .dataframe tbody tr th {\n",
              "        vertical-align: top;\n",
              "    }\n",
              "\n",
              "    .dataframe thead th {\n",
              "        text-align: right;\n",
              "    }\n",
              "</style>\n",
              "<table border=\"1\" class=\"dataframe\">\n",
              "  <thead>\n",
              "    <tr style=\"text-align: right;\">\n",
              "      <th></th>\n",
              "      <th>slice_file_name</th>\n",
              "      <th>fold</th>\n",
              "      <th>classID</th>\n",
              "      <th>class</th>\n",
              "    </tr>\n",
              "  </thead>\n",
              "  <tbody>\n",
              "    <tr>\n",
              "      <th>0</th>\n",
              "      <td>146714-0-0-49.wav</td>\n",
              "      <td>3</td>\n",
              "      <td>0</td>\n",
              "      <td>air_conditioner</td>\n",
              "    </tr>\n",
              "    <tr>\n",
              "      <th>1</th>\n",
              "      <td>144068-5-4-3.wav</td>\n",
              "      <td>3</td>\n",
              "      <td>5</td>\n",
              "      <td>engine_idling</td>\n",
              "    </tr>\n",
              "    <tr>\n",
              "      <th>2</th>\n",
              "      <td>12647-3-3-0.wav</td>\n",
              "      <td>3</td>\n",
              "      <td>3</td>\n",
              "      <td>dog_bark</td>\n",
              "    </tr>\n",
              "    <tr>\n",
              "      <th>3</th>\n",
              "      <td>111671-8-0-9.wav</td>\n",
              "      <td>5</td>\n",
              "      <td>8</td>\n",
              "      <td>siren</td>\n",
              "    </tr>\n",
              "    <tr>\n",
              "      <th>4</th>\n",
              "      <td>104998-7-17-14.wav</td>\n",
              "      <td>5</td>\n",
              "      <td>7</td>\n",
              "      <td>jackhammer</td>\n",
              "    </tr>\n",
              "  </tbody>\n",
              "</table>\n",
              "</div>"
            ],
            "text/plain": [
              "      slice_file_name  fold  classID            class\n",
              "0   146714-0-0-49.wav     3        0  air_conditioner\n",
              "1    144068-5-4-3.wav     3        5    engine_idling\n",
              "2     12647-3-3-0.wav     3        3         dog_bark\n",
              "3    111671-8-0-9.wav     5        8            siren\n",
              "4  104998-7-17-14.wav     5        7       jackhammer"
            ]
          },
          "metadata": {
            "tags": []
          },
          "execution_count": 48
        }
      ]
    },
    {
      "cell_type": "code",
      "metadata": {
        "id": "OX7w5725eu93"
      },
      "source": [
        "array = [3,5]\n",
        "data1=data1.loc[data1['fold'].isin(array)]\n",
        "data1['path']='fold'+data1['fold'].astype('str')+'/'+data1['slice_file_name'].astype('str')"
      ],
      "execution_count": 49,
      "outputs": []
    },
    {
      "cell_type": "code",
      "metadata": {
        "id": "LE7tfaxrez3J"
      },
      "source": [
        "D1=[]\n",
        "for row in data1.itertuples():\n",
        "  y,sr=librosa.load('/content/gdrive/My Drive/'+ row.path,duration=2.97)\n",
        "  ps=librosa.feature.melspectrogram(y=y,sr=sr)\n",
        "  if ps.shape!=(128,128): continue\n",
        "  D1.append((ps,row.classID))\n",
        "random.shuffle(D1)\n",
        "test=D1\n",
        "x_test, y_test= zip(*test)\n",
        "x_test=np.array([x.reshape( (128,128,1) ) for x in x_test])"
      ],
      "execution_count": 50,
      "outputs": []
    },
    {
      "cell_type": "code",
      "metadata": {
        "id": "ypqvDIeBe5Zp"
      },
      "source": [
        "pairImages1 = []\n",
        "pairLabels1 = []\n",
        "# loop over all images\n",
        "for idxA in range(len(D1)):\n",
        "\tcurrentImage = x_test[idxA]\n",
        "\tlabel = y_test[idxA]\n",
        "\tidxB = np.random.choice(idx[label])\n",
        "\tposImage = x_train[idxB]\n",
        "\tpairImages1.append([currentImage, posImage])\n",
        "\tpairLabels1.append([1])\n",
        "   \n",
        "  # Neg sample\n",
        "\tnegIdx = np.where(y_train != label)[0]\n",
        "\tnegImage = x_train[np.random.choice(negIdx)]\n",
        "\tpairImages1.append([currentImage, negImage])\n",
        "\tpairLabels1.append([0])\n",
        "ytest=np.array(pairLabels1)\n",
        "y=np.array(pairLabels)\n",
        "xtest1=[]\n",
        "xtest2=[]\n",
        "for i in range(len(pairLabels1)):\n",
        "  xtest1.append(pairImages1[i][0])\n",
        "  xtest2.append(pairImages1[i][1])\n",
        "xtest1=np.array(xtest1)\n",
        "xtest2=np.array(xtest2)"
      ],
      "execution_count": 51,
      "outputs": []
    },
    {
      "cell_type": "markdown",
      "metadata": {
        "id": "iUgyOZuhe8Bi"
      },
      "source": [
        "Compiling Siamese Network"
      ]
    },
    {
      "cell_type": "code",
      "metadata": {
        "id": "c-ccdYRQINwQ",
        "colab": {
          "base_uri": "https://localhost:8080/"
        },
        "outputId": "5875ee75-cb26-4499-d28d-f994d11ca27a"
      },
      "source": [
        "import keras \n",
        "from keras.layers import Dense, MaxPooling2D, Convolution2D, Dropout, Input, Flatten, Subtract, merge\n",
        "from keras.layers.normalization import BatchNormalization\n",
        "from keras import backend as K\n",
        "from keras.models import Model\n",
        "import pandas as pd\n",
        "from keras import backend as K\n",
        "from keras.layers import Lambda\n",
        "\n",
        "inp_1 = Input(shape=(128,128,1))\n",
        "conv_1 = Convolution2D(24,(5,5),activation='relu')(inp_1)\n",
        "max_2 = MaxPooling2D((4,2),strides=(4,2))(conv_1)\n",
        "conv_3 = Convolution2D(48,(5,5),activation='relu')(max_2)\n",
        "max_4 = MaxPooling2D((4,2),strides=(4,2))(conv_3)\n",
        "conv_5 = Convolution2D(48,(5,5),activation='relu')(max_4)\n",
        "fcl = Flatten()(conv_5)\n",
        "dense_1 = Dense(64,activation='relu')(fcl)\n",
        "\n",
        "inp_2 = Input(shape=(128,128,1))\n",
        "conv2_1 = Convolution2D(24,(5,5),activation='relu')(inp_2)\n",
        "max2_2 = MaxPooling2D((4,2),strides=(4,2))(conv2_1)\n",
        "conv2_3 = Convolution2D(48,(5,5),activation='relu')(max2_2)\n",
        "max2_4 = MaxPooling2D((4,2),strides=(4,2))(conv2_3)\n",
        "conv2_5 = Convolution2D(48,(5,5),activation='relu')(max2_4)\n",
        "fcl2 = Flatten()(conv2_5)\n",
        "dense2_1 = Dense(64,activation='relu')(fcl2)\n",
        "\n",
        "dense_layer = Lambda(lambda x: K.abs(x[0]-x[1]))([dense_1, dense2_1])\n",
        "\n",
        "output = Dense(1,activation='sigmoid')(dense_layer)\n",
        "\n",
        "siamese_net = Model(inputs=[inp_1,inp_2],outputs=output)\n",
        "\n",
        "print(siamese_net.summary())"
      ],
      "execution_count": 52,
      "outputs": [
        {
          "output_type": "stream",
          "text": [
            "Model: \"model_2\"\n",
            "__________________________________________________________________________________________________\n",
            "Layer (type)                    Output Shape         Param #     Connected to                     \n",
            "==================================================================================================\n",
            "input_5 (InputLayer)            [(None, 128, 128, 1) 0                                            \n",
            "__________________________________________________________________________________________________\n",
            "input_6 (InputLayer)            [(None, 128, 128, 1) 0                                            \n",
            "__________________________________________________________________________________________________\n",
            "conv2d_12 (Conv2D)              (None, 124, 124, 24) 624         input_5[0][0]                    \n",
            "__________________________________________________________________________________________________\n",
            "conv2d_15 (Conv2D)              (None, 124, 124, 24) 624         input_6[0][0]                    \n",
            "__________________________________________________________________________________________________\n",
            "max_pooling2d_8 (MaxPooling2D)  (None, 31, 62, 24)   0           conv2d_12[0][0]                  \n",
            "__________________________________________________________________________________________________\n",
            "max_pooling2d_10 (MaxPooling2D) (None, 31, 62, 24)   0           conv2d_15[0][0]                  \n",
            "__________________________________________________________________________________________________\n",
            "conv2d_13 (Conv2D)              (None, 27, 58, 48)   28848       max_pooling2d_8[0][0]            \n",
            "__________________________________________________________________________________________________\n",
            "conv2d_16 (Conv2D)              (None, 27, 58, 48)   28848       max_pooling2d_10[0][0]           \n",
            "__________________________________________________________________________________________________\n",
            "max_pooling2d_9 (MaxPooling2D)  (None, 6, 29, 48)    0           conv2d_13[0][0]                  \n",
            "__________________________________________________________________________________________________\n",
            "max_pooling2d_11 (MaxPooling2D) (None, 6, 29, 48)    0           conv2d_16[0][0]                  \n",
            "__________________________________________________________________________________________________\n",
            "conv2d_14 (Conv2D)              (None, 2, 25, 48)    57648       max_pooling2d_9[0][0]            \n",
            "__________________________________________________________________________________________________\n",
            "conv2d_17 (Conv2D)              (None, 2, 25, 48)    57648       max_pooling2d_11[0][0]           \n",
            "__________________________________________________________________________________________________\n",
            "flatten_4 (Flatten)             (None, 2400)         0           conv2d_14[0][0]                  \n",
            "__________________________________________________________________________________________________\n",
            "flatten_5 (Flatten)             (None, 2400)         0           conv2d_17[0][0]                  \n",
            "__________________________________________________________________________________________________\n",
            "dense_6 (Dense)                 (None, 64)           153664      flatten_4[0][0]                  \n",
            "__________________________________________________________________________________________________\n",
            "dense_7 (Dense)                 (None, 64)           153664      flatten_5[0][0]                  \n",
            "__________________________________________________________________________________________________\n",
            "lambda_2 (Lambda)               (None, 64)           0           dense_6[0][0]                    \n",
            "                                                                 dense_7[0][0]                    \n",
            "__________________________________________________________________________________________________\n",
            "dense_8 (Dense)                 (None, 1)            65          lambda_2[0][0]                   \n",
            "==================================================================================================\n",
            "Total params: 481,633\n",
            "Trainable params: 481,633\n",
            "Non-trainable params: 0\n",
            "__________________________________________________________________________________________________\n",
            "None\n"
          ],
          "name": "stdout"
        }
      ]
    },
    {
      "cell_type": "code",
      "metadata": {
        "id": "AHPQrPbIINyD"
      },
      "source": [
        "siamese_net.compile(loss='binary_crossentropy',optimizer=keras.optimizers.SGD(lr=0.001),metrics = ['accuracy'])"
      ],
      "execution_count": 53,
      "outputs": []
    },
    {
      "cell_type": "code",
      "metadata": {
        "id": "-NcslIZNIN1a"
      },
      "source": [
        "y=np.array(pairLabels)"
      ],
      "execution_count": 54,
      "outputs": []
    },
    {
      "cell_type": "markdown",
      "metadata": {
        "id": "6TU5qe5KL5he"
      },
      "source": [
        "Fitting the Model"
      ]
    },
    {
      "cell_type": "code",
      "metadata": {
        "id": "Vu0o7C8eMH3u",
        "colab": {
          "base_uri": "https://localhost:8080/"
        },
        "outputId": "3a1bbf0c-9405-44cd-aa90-6d14a444fa02"
      },
      "source": [
        "siamese_net.fit(\n",
        "    [x1,x2],\n",
        "    y=y,\n",
        "    verbose=1,\n",
        "    epochs=50,\n",
        "    batch_size=128,\n",
        "    validation_data=([xtest1,xtest2],ytest))"
      ],
      "execution_count": 55,
      "outputs": [
        {
          "output_type": "stream",
          "text": [
            "Epoch 1/50\n",
            "1/1 [==============================] - 2s 2s/step - loss: 0.8629 - accuracy: 0.5278 - val_loss: 0.8342 - val_accuracy: 0.5833\n",
            "Epoch 2/50\n",
            "1/1 [==============================] - 1s 914ms/step - loss: 0.6127 - accuracy: 0.6944 - val_loss: 0.9373 - val_accuracy: 0.5833\n",
            "Epoch 3/50\n",
            "1/1 [==============================] - 1s 908ms/step - loss: 0.5026 - accuracy: 0.7222 - val_loss: 0.8334 - val_accuracy: 0.5833\n",
            "Epoch 4/50\n",
            "1/1 [==============================] - 1s 896ms/step - loss: 0.4681 - accuracy: 0.7222 - val_loss: 0.7818 - val_accuracy: 0.5833\n",
            "Epoch 5/50\n",
            "1/1 [==============================] - 1s 924ms/step - loss: 0.4461 - accuracy: 0.8889 - val_loss: 0.7391 - val_accuracy: 0.5833\n",
            "Epoch 6/50\n",
            "1/1 [==============================] - 1s 911ms/step - loss: 0.4294 - accuracy: 0.8889 - val_loss: 0.7176 - val_accuracy: 0.5833\n",
            "Epoch 7/50\n",
            "1/1 [==============================] - 1s 899ms/step - loss: 0.4147 - accuracy: 0.8889 - val_loss: 0.6836 - val_accuracy: 0.5833\n",
            "Epoch 8/50\n",
            "1/1 [==============================] - 1s 893ms/step - loss: 0.4013 - accuracy: 0.8889 - val_loss: 0.6644 - val_accuracy: 0.5833\n",
            "Epoch 9/50\n",
            "1/1 [==============================] - 1s 897ms/step - loss: 0.3888 - accuracy: 0.8889 - val_loss: 0.6429 - val_accuracy: 0.6667\n",
            "Epoch 10/50\n",
            "1/1 [==============================] - 1s 895ms/step - loss: 0.3769 - accuracy: 0.8889 - val_loss: 0.6296 - val_accuracy: 0.6667\n",
            "Epoch 11/50\n",
            "1/1 [==============================] - 1s 890ms/step - loss: 0.3661 - accuracy: 0.8889 - val_loss: 0.6128 - val_accuracy: 0.6667\n",
            "Epoch 12/50\n",
            "1/1 [==============================] - 1s 895ms/step - loss: 0.3572 - accuracy: 0.8889 - val_loss: 0.5987 - val_accuracy: 0.6667\n",
            "Epoch 13/50\n",
            "1/1 [==============================] - 1s 905ms/step - loss: 0.3490 - accuracy: 0.8889 - val_loss: 0.5787 - val_accuracy: 0.7500\n",
            "Epoch 14/50\n",
            "1/1 [==============================] - 1s 898ms/step - loss: 0.3409 - accuracy: 0.9444 - val_loss: 0.5703 - val_accuracy: 0.8333\n",
            "Epoch 15/50\n",
            "1/1 [==============================] - 1s 905ms/step - loss: 0.3332 - accuracy: 1.0000 - val_loss: 0.5536 - val_accuracy: 0.8333\n",
            "Epoch 16/50\n",
            "1/1 [==============================] - 1s 912ms/step - loss: 0.3261 - accuracy: 1.0000 - val_loss: 0.5467 - val_accuracy: 0.8333\n",
            "Epoch 17/50\n",
            "1/1 [==============================] - 1s 911ms/step - loss: 0.3190 - accuracy: 1.0000 - val_loss: 0.5351 - val_accuracy: 0.8333\n",
            "Epoch 18/50\n",
            "1/1 [==============================] - 1s 896ms/step - loss: 0.3122 - accuracy: 1.0000 - val_loss: 0.5254 - val_accuracy: 0.8333\n",
            "Epoch 19/50\n",
            "1/1 [==============================] - 1s 890ms/step - loss: 0.3058 - accuracy: 1.0000 - val_loss: 0.5164 - val_accuracy: 0.8333\n",
            "Epoch 20/50\n",
            "1/1 [==============================] - 1s 900ms/step - loss: 0.2998 - accuracy: 1.0000 - val_loss: 0.5075 - val_accuracy: 0.8333\n",
            "Epoch 21/50\n",
            "1/1 [==============================] - 1s 894ms/step - loss: 0.2941 - accuracy: 1.0000 - val_loss: 0.4991 - val_accuracy: 0.8333\n",
            "Epoch 22/50\n",
            "1/1 [==============================] - 1s 899ms/step - loss: 0.2886 - accuracy: 1.0000 - val_loss: 0.4913 - val_accuracy: 0.8333\n",
            "Epoch 23/50\n",
            "1/1 [==============================] - 1s 913ms/step - loss: 0.2836 - accuracy: 1.0000 - val_loss: 0.4835 - val_accuracy: 0.8333\n",
            "Epoch 24/50\n",
            "1/1 [==============================] - 1s 906ms/step - loss: 0.2787 - accuracy: 1.0000 - val_loss: 0.4769 - val_accuracy: 0.8333\n",
            "Epoch 25/50\n",
            "1/1 [==============================] - 1s 899ms/step - loss: 0.2740 - accuracy: 1.0000 - val_loss: 0.4684 - val_accuracy: 0.8333\n",
            "Epoch 26/50\n",
            "1/1 [==============================] - 1s 897ms/step - loss: 0.2694 - accuracy: 1.0000 - val_loss: 0.4616 - val_accuracy: 0.8333\n",
            "Epoch 27/50\n",
            "1/1 [==============================] - 1s 900ms/step - loss: 0.2643 - accuracy: 1.0000 - val_loss: 0.4562 - val_accuracy: 0.8333\n",
            "Epoch 28/50\n",
            "1/1 [==============================] - 1s 897ms/step - loss: 0.2599 - accuracy: 1.0000 - val_loss: 0.4500 - val_accuracy: 0.8333\n",
            "Epoch 29/50\n",
            "1/1 [==============================] - 1s 900ms/step - loss: 0.2553 - accuracy: 1.0000 - val_loss: 0.4451 - val_accuracy: 0.9167\n",
            "Epoch 30/50\n",
            "1/1 [==============================] - 1s 905ms/step - loss: 0.2513 - accuracy: 1.0000 - val_loss: 0.4406 - val_accuracy: 0.9167\n",
            "Epoch 31/50\n",
            "1/1 [==============================] - 1s 898ms/step - loss: 0.2471 - accuracy: 1.0000 - val_loss: 0.4360 - val_accuracy: 0.9167\n",
            "Epoch 32/50\n",
            "1/1 [==============================] - 1s 908ms/step - loss: 0.2431 - accuracy: 1.0000 - val_loss: 0.4321 - val_accuracy: 0.9167\n",
            "Epoch 33/50\n",
            "1/1 [==============================] - 1s 907ms/step - loss: 0.2389 - accuracy: 1.0000 - val_loss: 0.4285 - val_accuracy: 0.9167\n",
            "Epoch 34/50\n",
            "1/1 [==============================] - 1s 895ms/step - loss: 0.2354 - accuracy: 1.0000 - val_loss: 0.4254 - val_accuracy: 0.9167\n",
            "Epoch 35/50\n",
            "1/1 [==============================] - 1s 910ms/step - loss: 0.2315 - accuracy: 1.0000 - val_loss: 0.4231 - val_accuracy: 0.8333\n",
            "Epoch 36/50\n",
            "1/1 [==============================] - 1s 910ms/step - loss: 0.2280 - accuracy: 1.0000 - val_loss: 0.4204 - val_accuracy: 0.8333\n",
            "Epoch 37/50\n",
            "1/1 [==============================] - 1s 899ms/step - loss: 0.2247 - accuracy: 1.0000 - val_loss: 0.4192 - val_accuracy: 0.8333\n",
            "Epoch 38/50\n",
            "1/1 [==============================] - 1s 902ms/step - loss: 0.2213 - accuracy: 1.0000 - val_loss: 0.4172 - val_accuracy: 0.8333\n",
            "Epoch 39/50\n",
            "1/1 [==============================] - 1s 907ms/step - loss: 0.2183 - accuracy: 1.0000 - val_loss: 0.4155 - val_accuracy: 0.8333\n",
            "Epoch 40/50\n",
            "1/1 [==============================] - 1s 898ms/step - loss: 0.2151 - accuracy: 1.0000 - val_loss: 0.4151 - val_accuracy: 0.8333\n",
            "Epoch 41/50\n",
            "1/1 [==============================] - 1s 916ms/step - loss: 0.2121 - accuracy: 1.0000 - val_loss: 0.4140 - val_accuracy: 0.8333\n",
            "Epoch 42/50\n",
            "1/1 [==============================] - 1s 889ms/step - loss: 0.2089 - accuracy: 1.0000 - val_loss: 0.4143 - val_accuracy: 0.8333\n",
            "Epoch 43/50\n",
            "1/1 [==============================] - 1s 916ms/step - loss: 0.2062 - accuracy: 1.0000 - val_loss: 0.4150 - val_accuracy: 0.8333\n",
            "Epoch 44/50\n",
            "1/1 [==============================] - 1s 893ms/step - loss: 0.2035 - accuracy: 1.0000 - val_loss: 0.4147 - val_accuracy: 0.8333\n",
            "Epoch 45/50\n",
            "1/1 [==============================] - 1s 900ms/step - loss: 0.2009 - accuracy: 1.0000 - val_loss: 0.4157 - val_accuracy: 0.8333\n",
            "Epoch 46/50\n",
            "1/1 [==============================] - 1s 900ms/step - loss: 0.1986 - accuracy: 1.0000 - val_loss: 0.4152 - val_accuracy: 0.8333\n",
            "Epoch 47/50\n",
            "1/1 [==============================] - 1s 920ms/step - loss: 0.1964 - accuracy: 1.0000 - val_loss: 0.4131 - val_accuracy: 0.8333\n",
            "Epoch 48/50\n",
            "1/1 [==============================] - 1s 914ms/step - loss: 0.1944 - accuracy: 1.0000 - val_loss: 0.4141 - val_accuracy: 0.8333\n",
            "Epoch 49/50\n",
            "1/1 [==============================] - 1s 897ms/step - loss: 0.1923 - accuracy: 1.0000 - val_loss: 0.4147 - val_accuracy: 0.8333\n",
            "Epoch 50/50\n",
            "1/1 [==============================] - 1s 912ms/step - loss: 0.1901 - accuracy: 1.0000 - val_loss: 0.4141 - val_accuracy: 0.8333\n"
          ],
          "name": "stdout"
        },
        {
          "output_type": "execute_result",
          "data": {
            "text/plain": [
              "<tensorflow.python.keras.callbacks.History at 0x7fbb62c9a6d0>"
            ]
          },
          "metadata": {
            "tags": []
          },
          "execution_count": 55
        }
      ]
    },
    {
      "cell_type": "code",
      "metadata": {
        "id": "KFlm8TDoH7ut"
      },
      "source": [
        ""
      ],
      "execution_count": null,
      "outputs": []
    },
    {
      "cell_type": "markdown",
      "metadata": {
        "id": "r3yB9aql8jV7"
      },
      "source": [
        "#Demo on real life data set."
      ]
    },
    {
      "cell_type": "code",
      "metadata": {
        "colab": {
          "resources": {
            "http://localhost:8080/nbextensions/google.colab/files.js": {
              "data": "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",
              "ok": true,
              "headers": [
                [
                  "content-type",
                  "application/javascript"
                ]
              ],
              "status": 200,
              "status_text": ""
            }
          },
          "base_uri": "https://localhost:8080/",
          "height": 73
        },
        "id": "KmSoVoeotMKj",
        "outputId": "e4413bb6-5ff4-4389-9473-2fb9e4ab10f0"
      },
      "source": [
        "from google.colab import files \n",
        "uploaded = files.upload()"
      ],
      "execution_count": 57,
      "outputs": [
        {
          "output_type": "display_data",
          "data": {
            "text/html": [
              "\n",
              "     <input type=\"file\" id=\"files-f0834894-fe90-47a5-bfe8-bb69ebced52d\" name=\"files[]\" multiple disabled\n",
              "        style=\"border:none\" />\n",
              "     <output id=\"result-f0834894-fe90-47a5-bfe8-bb69ebced52d\">\n",
              "      Upload widget is only available when the cell has been executed in the\n",
              "      current browser session. Please rerun this cell to enable.\n",
              "      </output>\n",
              "      <script src=\"/nbextensions/google.colab/files.js\"></script> "
            ],
            "text/plain": [
              "<IPython.core.display.HTML object>"
            ]
          },
          "metadata": {
            "tags": []
          }
        },
        {
          "output_type": "stream",
          "text": [
            "Saving realdata.csv to realdata (2).csv\n"
          ],
          "name": "stdout"
        }
      ]
    },
    {
      "cell_type": "code",
      "metadata": {
        "id": "C4gQGprc8U52",
        "outputId": "ca731298-a7ba-4491-d9a7-74b97f268ae9",
        "colab": {
          "base_uri": "https://localhost:8080/",
          "height": 198
        }
      },
      "source": [
        "data2 = pd.read_csv(io.BytesIO(uploaded['realdata.csv']))\n",
        "data2.head()"
      ],
      "execution_count": 58,
      "outputs": [
        {
          "output_type": "execute_result",
          "data": {
            "text/html": [
              "<div>\n",
              "<style scoped>\n",
              "    .dataframe tbody tr th:only-of-type {\n",
              "        vertical-align: middle;\n",
              "    }\n",
              "\n",
              "    .dataframe tbody tr th {\n",
              "        vertical-align: top;\n",
              "    }\n",
              "\n",
              "    .dataframe thead th {\n",
              "        text-align: right;\n",
              "    }\n",
              "</style>\n",
              "<table border=\"1\" class=\"dataframe\">\n",
              "  <thead>\n",
              "    <tr style=\"text-align: right;\">\n",
              "      <th></th>\n",
              "      <th>name</th>\n",
              "      <th>classID</th>\n",
              "    </tr>\n",
              "  </thead>\n",
              "  <tbody>\n",
              "    <tr>\n",
              "      <th>0</th>\n",
              "      <td>GirlCrying_1.wav</td>\n",
              "      <td>0</td>\n",
              "    </tr>\n",
              "    <tr>\n",
              "      <th>1</th>\n",
              "      <td>GirlCrying_2.wav</td>\n",
              "      <td>0</td>\n",
              "    </tr>\n",
              "    <tr>\n",
              "      <th>2</th>\n",
              "      <td>GirlLaughing_1.wav</td>\n",
              "      <td>1</td>\n",
              "    </tr>\n",
              "    <tr>\n",
              "      <th>3</th>\n",
              "      <td>Glass_1.wav</td>\n",
              "      <td>2</td>\n",
              "    </tr>\n",
              "    <tr>\n",
              "      <th>4</th>\n",
              "      <td>Glass_2.wav</td>\n",
              "      <td>2</td>\n",
              "    </tr>\n",
              "  </tbody>\n",
              "</table>\n",
              "</div>"
            ],
            "text/plain": [
              "                 name  classID\n",
              "0    GirlCrying_1.wav        0\n",
              "1    GirlCrying_2.wav        0\n",
              "2  GirlLaughing_1.wav        1\n",
              "3         Glass_1.wav        2\n",
              "4         Glass_2.wav        2"
            ]
          },
          "metadata": {
            "tags": []
          },
          "execution_count": 58
        }
      ]
    },
    {
      "cell_type": "code",
      "metadata": {
        "id": "88J7694UMH55"
      },
      "source": [
        "data2['path']=data2['name'].astype('str')"
      ],
      "execution_count": 59,
      "outputs": []
    },
    {
      "cell_type": "code",
      "metadata": {
        "id": "xB0BBzquMH9A"
      },
      "source": [
        "D2=[]\n",
        "for row in data2.itertuples():\n",
        "  y,sr=librosa.load('/content/gdrive/My Drive/real_life_data/'+ row.path,duration=2.97)\n",
        "  ps=librosa.feature.melspectrogram(y=y,sr=sr)\n",
        "  if ps.shape!=(128,128): continue\n",
        "  D2.append((ps,row.classID))\n",
        "random.shuffle(D2)\n",
        "real_test=D2\n",
        "xreal_test, yreal_test= zip(*real_test)\n",
        "xreal_test=np.array([x.reshape( (128,128,1) ) for x in xreal_test]) "
      ],
      "execution_count": 60,
      "outputs": []
    },
    {
      "cell_type": "code",
      "metadata": {
        "id": "Rg70cTPivE5l",
        "outputId": "01a06104-af0d-42ee-c86c-190c38c0974b",
        "colab": {
          "base_uri": "https://localhost:8080/"
        }
      },
      "source": [
        "idx1 = [np.where(np.array(yreal_test)==i)[0] for i in range(0, 8)]\n",
        "idx1"
      ],
      "execution_count": 77,
      "outputs": [
        {
          "output_type": "execute_result",
          "data": {
            "text/plain": [
              "[array([ 3, 18]),\n",
              " array([6]),\n",
              " array([ 0,  8, 13]),\n",
              " array([ 5, 10, 17]),\n",
              " array([16]),\n",
              " array([15]),\n",
              " array([ 1,  4, 12]),\n",
              " array([ 7,  9, 19])]"
            ]
          },
          "metadata": {
            "tags": []
          },
          "execution_count": 77
        }
      ]
    },
    {
      "cell_type": "code",
      "metadata": {
        "id": "Sp1u06Ah2NXJ"
      },
      "source": [
        "#example class 0\n",
        "pairImages2 = []\n",
        "pairLabels2 = []\n",
        "a=[0,2,3,6,7]\n",
        "\n",
        "# loop over all images\n",
        "for i in a:\n",
        "  label=idx1[i][0]\n",
        "  currentImage=xreal_test[label]\n",
        "  label2=idx1[i][1]\n",
        "  posImage=xreal_test[label2]\n",
        "  pairImages2.append([currentImage, posImage])\n",
        "  pairLabels2.append([1])\n",
        "   \n",
        "  # Neg sample\n",
        "  negIdx = np.where(np.array(yreal_test) != label)[0]\n",
        "  negImage = xreal_test[np.random.choice(negIdx)]\n",
        "  pairImages2.append([currentImage, negImage])\n",
        "  pairLabels2.append([0])\n",
        "yrealtest=np.array(pairLabels2)\n",
        "xrealtest1=[]\n",
        "xrealtest2=[]\n",
        "for i in range(len(pairLabels2)):\n",
        "  xrealtest1.append(pairImages2[i][0])\n",
        "  xrealtest2.append(pairImages2[i][1])\n",
        "xrealtest1=np.array(xrealtest1)\n",
        "xrealtest2=np.array(xrealtest2)"
      ],
      "execution_count": 79,
      "outputs": []
    },
    {
      "cell_type": "code",
      "metadata": {
        "id": "qxzEOLN-xTc2"
      },
      "source": [
        ""
      ],
      "execution_count": 81,
      "outputs": []
    },
    {
      "cell_type": "code",
      "metadata": {
        "id": "eJkiNf5P8aya"
      },
      "source": [
        ""
      ],
      "execution_count": 81,
      "outputs": []
    },
    {
      "cell_type": "markdown",
      "metadata": {
        "id": "Fd0loXTQafor"
      },
      "source": [
        "We are acheiving test accuracy of around 56% which is not so good. The reason of low accuracy is that we didnt use large data for training. Instead we used a sample of data so that it requires less amount of time for training."
      ]
    }
  ]
}